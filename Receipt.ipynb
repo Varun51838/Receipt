{
  "nbformat": 4,
  "nbformat_minor": 0,
  "metadata": {
    "colab": {
      "provenance": [],
      "authorship_tag": "ABX9TyNafS0dixI3Fz4A0VlL9BBS",
      "include_colab_link": true
    },
    "kernelspec": {
      "name": "python3",
      "display_name": "Python 3"
    },
    "language_info": {
      "name": "python"
    }
  },
  "cells": [
    {
      "cell_type": "markdown",
      "metadata": {
        "id": "view-in-github",
        "colab_type": "text"
      },
      "source": [
        "<a href=\"https://colab.research.google.com/github/Varun51838/Receipt/blob/main/Receipt.ipynb\" target=\"_parent\"><img src=\"https://colab.research.google.com/assets/colab-badge.svg\" alt=\"Open In Colab\"/></a>"
      ]
    },
    {
      "cell_type": "code",
      "execution_count": 27,
      "metadata": {
        "colab": {
          "base_uri": "https://localhost:8080/"
        },
        "id": "csIl-8f-Hwif",
        "outputId": "0d7db996-66f0-493e-848c-92f4c2843087"
      },
      "outputs": [
        {
          "output_type": "stream",
          "name": "stdout",
          "text": [
            "Enter price of Shezwan Rice: 180\n",
            "Enter price of Paneer Manchurian: 250\n",
            "Enter price of the Mango Lassi: 150\n",
            "+------------------------------------+\n",
            "|                                    |\n",
            "|     ----- Hotel Emphire -----      |\n",
            "|94, Residency Road, Bengaluru.      |\n",
            "|GST NO:29GGGG1314R9Z6               |\n",
            "|Receipt no:334                      |\n",
            "|DATE:30/09/2024                     |\n",
            "|                                    |\n",
            "|ITEM                                |\n",
            "|Shezwan Rice:             ₹  180.00 |\n",
            "|Paneer Manchurian:        ₹  250.00 |\n",
            "|Mango Lassi:              ₹  150.00 |\n",
            "|                                    |\n",
            "|Subtotal:                 ₹  580.00 |\n",
            "|GST (16%):                ₹   92.80 |\n",
            "|Grand Total:              \u001b[1m₹  672.80\u001b[0m |\n",
            "|                                    |\n",
            "| ---THANK YOU PLEASE VISIT AGAIN--- |\n",
            "+------------------------------------+\n"
          ]
        }
      ],
      "source": [
        "food_item1_price = float(input(\"Enter price of Shezwan Rice: \"))\n",
        "food_item2_price = float(input(\"Enter price of Paneer Manchurian: \"))\n",
        "beverage_price = float(input(\"Enter price of the Mango Lassi: \"))\n",
        "\n",
        "subtotal = food_item1_price + food_item2_price + beverage_price\n",
        "\n",
        "# 0.08=state GSt\n",
        "# 0.08=central GST\n",
        "gst_rate = 0.16\n",
        "gst_amount = subtotal * gst_rate\n",
        "\n",
        "total_amount = subtotal + gst_amount\n",
        "\n",
        "print(\"+\" + \"-\"*36 + \"+\")\n",
        "print(\"|\" + \" \"*(36) + \"|\")\n",
        "print(\"|     ----- Hotel Emphire -----      |\")\n",
        "print(\"|94, Residency Road, Bengaluru.      |\")\n",
        "print(\"|GST NO:29GGGG1314R9Z6               |\")\n",
        "print(\"|Receipt no:334                      |\")\n",
        "print(\"|DATE:30/09/2024                     |\")\n",
        "print(\"|\" + \" \"*(36) + \"|\")\n",
        "print(\"|ITEM                                |\")\n",
        "print(f\"|Shezwan Rice:             ₹{food_item1_price:>8.2f} |\")\n",
        "print(f\"|Paneer Manchurian:        ₹{food_item2_price:>8.2f} |\")\n",
        "print(f\"|Mango Lassi:              ₹{beverage_price:>8.2f} |\")\n",
        "print(\"|\" + \" \"*(36) + \"|\")\n",
        "print(f\"|Subtotal:                 ₹{subtotal:>8.2f} |\")\n",
        "print(f\"|GST (16%):                ₹{gst_amount:>8.2f} |\")\n",
        "print(f\"|Grand Total:              \\033[1m₹{total_amount:>8.2f}\\033[0m |\")\n",
        "print(\"|\" + \" \"*(36) + \"|\")\n",
        "print(\"| ---THANK YOU PLEASE VISIT AGAIN--- |\")\n",
        "print(\"|\" + \" \"*(36) + \"|\")\n",
        "print(\"+\" + \"-\"*36 + \"+\")"
      ]
    }
  ]
}
